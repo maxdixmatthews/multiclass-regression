{
 "cells": [
  {
   "cell_type": "markdown",
   "metadata": {},
   "source": [
    "# MNIST using NDs\n",
    "\n",
    "Using nested dichotomies to get a score for the MNIST dataset\n",
    "\n",
    "Will use KNN, SVM and the combination of multiple together"
   ]
  },
  {
   "cell_type": "code",
   "execution_count": 6,
   "metadata": {},
   "outputs": [],
   "source": [
    "# imports\n",
    "import itertools\n",
    "import numpy as np\n",
    "import pandas as pd\n",
    "import concurrent.futures\n",
    "import numpy as np\n",
    "import math\n",
    "from sklearn.model_selection import train_test_split, cross_val_predict, cross_val_score, cross_validate\n",
    "from sklearn.preprocessing import StandardScaler\n",
    "from sklearn.linear_model import LogisticRegression\n",
    "from sklearn.metrics import accuracy_score, classification_report, roc_curve, ConfusionMatrixDisplay, auc, roc_auc_score, f1_score, confusion_matrix\n",
    "from sklearn import datasets\n",
    "from statistics import mean\n",
    "# import includes.model as mod\n",
    "import pandas as pd\n",
    "from joblib import dump, load\n",
    "# from includes.config import Config;\n",
    "# import includes.model_functions as mf\n",
    "import time\n",
    "from itertools import combinations\n",
    "import random\n",
    "# from graphviz import Digraph\n",
    "import matplotlib.pyplot as plt\n",
    "from sklearn.datasets import make_classification\n",
    "import matplotlib.pyplot as plt\n",
    "import networkx as nx\n",
    "from networkx.drawing.nx_pydot import graphviz_layout\n",
    "from datetime import datetime \n",
    "import os\n",
    "import argparse\n",
    "from itertools import count\n",
    "from ucimlrepo import fetch_ucirepo \n",
    "from sklearn.preprocessing import LabelEncoder\n",
    "from sklearn.ensemble import RandomForestClassifier\n",
    "import xgboost as xgb\n",
    "from sklearn import svm\n",
    "from sklearn.pipeline import make_pipeline\n",
    "from sklearn.preprocessing import StandardScaler\n",
    "from sklearn.neighbors import KNeighborsClassifier\n",
    "from sklearn.discriminant_analysis import LinearDiscriminantAnalysis\n",
    "from sklearn.model_selection import GridSearchCV\n",
    "from sklearn.multiclass import OneVsRestClassifier\n",
    "from tensorflow.keras.datasets import mnist"
   ]
  },
  {
   "cell_type": "code",
   "execution_count": null,
   "metadata": {},
   "outputs": [],
   "source": [
    "import torch\n",
    "from TTS.api import TTS\n",
    "\n",
    "# Get device\n",
    "device = \"cuda\" if torch.cuda.is_available() else \"cpu\"\n",
    "\n",
    "# List available 🐸TTS models\n",
    "print(TTS().list_models())\n",
    "\n",
    "# Init TTS\n",
    "tts = TTS(\"tts_models/multilingual/multi-dataset/xtts_v2\").to(device)\n",
    "\n",
    "# Run TTS\n",
    "# ❗ Since this model is multi-lingual voice cloning model, we must set the target speaker_wav and language\n",
    "# Text to speech list of amplitude values as output\n",
    "wav = tts.tts(text=\"Hello world!\", speaker_wav=\"my/cloning/audio.wav\", language=\"en\")\n",
    "# Text to speech to a file\n",
    "tts.tts_to_file(text=\"Hello world!\", speaker_wav=\"my/cloning/audio.wav\", language=\"en\", file_path=\"output.wav\")"
   ]
  },
  {
   "cell_type": "code",
   "execution_count": null,
   "metadata": {},
   "outputs": [],
   "source": [
    "# Prepare data\n",
    "(X_train, y_train), (X_test, y_test) = mnist.load_data()\n",
    "\n",
    "# Flatten the 28x28 images into a single 784-length vector per image\n",
    "X_train_flattened = X_train.reshape(X_train.shape[0], -1)\n",
    "X_test_flattened = X_test.reshape(X_test.shape[0], -1)\n",
    "\n",
    "# Convert to a Pandas DataFrame\n",
    "X_train_df = pd.DataFrame(X_train_flattened)\n",
    "X_test_df = pd.DataFrame(X_test_flattened)\n",
    "\n",
    "# Optionally, add column names (e.g., \"pixel_0\", \"pixel_1\", ..., \"pixel_783\")\n",
    "X_train_df.columns = [f\"pixel_{i}\" for i in range(X_train_flattened.shape[1])]\n",
    "X_test_df.columns = [f\"pixel_{i}\" for i in range(X_test_flattened.shape[1])]\n",
    "\n",
    "# Add the labels as a separate column if desired\n",
    "X_train_df['Y'] = y_train\n",
    "X_test_df['Y'] = y_test\n",
    "\n",
    "print(X_train_df.head())\n",
    "X_train = X_train_df.sample(5000)\n",
    "X_test = X_test_df\n",
    "\n",
    "start = time.perf_counter()\n",
    "dataset = filename = 'MNIST'\n",
    "model_types = ['randomForest', 'LogisticRegression','xgboost','KNN','SVM']\n",
    "model_types = ['knnhyper']\n",
    "config = Config(dataset)\n",
    "\n",
    "score_type = 'accuracy'\n",
    "categories = tuple(X_train['Y'].unique())"
   ]
  },
  {
   "cell_type": "code",
   "execution_count": null,
   "metadata": {},
   "outputs": [],
   "source": [
    "config.log.info('Beginning of stepwise tree finder.')\n",
    "best_tree = mf.stepwise_tree_finder(config, categories, X_train, [], {}, model_types=model_types, score_type=score_type)\n",
    "config.log.info('Finished stepwise tree finder.')\n",
    "config.log.info(f\"Took: {round(time.perf_counter()-start,3)} to do find best tree.\")\n",
    "model_strucs = list(best_tree.keys())\n",
    "tree_types = list(best_tree.values())\n",
    "config.log.info(model_strucs)\n",
    "config.log.info(tree_types)\n",
    "best_trained_model = mf.build_best_tree(config, X_test, X_train, y_test, score_type, tree_types, model_strucs, categories, transform_label=None)[0]\n",
    "mf.graph_model(config, best_trained_model, filename, transform_label=None, model_types=model_types)"
   ]
  },
  {
   "cell_type": "markdown",
   "metadata": {},
   "source": [
    "# Run Current models\n",
    "\n",
    "We already have scores from papers, but still good to do it ourselves"
   ]
  },
  {
   "cell_type": "code",
   "execution_count": 12,
   "metadata": {},
   "outputs": [],
   "source": [
    "from sklearn.multiclass import OneVsOneClassifier\n",
    "(X_train, y_train), (X_test, y_test) = mnist.load_data()\n",
    "\n",
    "# Flatten the 28x28 images into a single 784-length vector per image\n",
    "X_train_flattened = X_train.reshape(X_train.shape[0], -1)\n",
    "X_test_flattened = X_test.reshape(X_test.shape[0], -1)\n",
    "\n",
    "# Convert to a Pandas DataFrame\n",
    "X_train_df = pd.DataFrame(X_train_flattened)\n",
    "X_test_df = pd.DataFrame(X_test_flattened)\n",
    "\n",
    "# Optionally, add column names (e.g., \"pixel_0\", \"pixel_1\", ..., \"pixel_783\")\n",
    "X_train_df.columns = [f\"pixel_{i}\" for i in range(X_train_flattened.shape[1])]\n",
    "X_test_df.columns = [f\"pixel_{i}\" for i in range(X_test_flattened.shape[1])]\n",
    "\n",
    "# Add the labels as a separate column if desired\n",
    "# X_train_df['Y'] = y_train\n",
    "# X_test_df['Y'] = y_test\n",
    "X_train = X_train_df\n",
    "X_test = X_test_df\n",
    "y_test = y_test"
   ]
  },
  {
   "cell_type": "code",
   "execution_count": 13,
   "metadata": {},
   "outputs": [
    {
     "name": "stdout",
     "output_type": "stream",
     "text": [
      "Accuracy: 0.9795000000\n",
      "              precision    recall  f1-score   support\n",
      "\n",
      "           0       0.98      0.99      0.98       980\n",
      "           1       0.99      0.99      0.99      1135\n",
      "           2       0.98      0.98      0.98      1032\n",
      "           3       0.98      0.98      0.98      1010\n",
      "           4       0.98      0.98      0.98       982\n",
      "           5       0.98      0.98      0.98       892\n",
      "           6       0.98      0.98      0.98       958\n",
      "           7       0.98      0.97      0.98      1028\n",
      "           8       0.98      0.98      0.98       974\n",
      "           9       0.97      0.97      0.97      1009\n",
      "\n",
      "    accuracy                           0.98     10000\n",
      "   macro avg       0.98      0.98      0.98     10000\n",
      "weighted avg       0.98      0.98      0.98     10000\n",
      "\n"
     ]
    }
   ],
   "source": [
    "# Run with xgboost OVO\n",
    "model = xgb.XGBClassifier(n_jobs = -1, objective=\"binary:logistic\")\n",
    "# model = OneVsOneClassifier(model)\n",
    "model.fit(X_train, y_train)\n",
    "\n",
    "# Make predictions on the test set\n",
    "y_pred = model.predict(X_test)\n",
    "\n",
    "# Evaluate the model\n",
    "accuracy = accuracy_score(y_test, y_pred)\n",
    "print(f'Accuracy: {accuracy:.10f}')\n",
    "print(classification_report(y_test, y_pred))"
   ]
  }
 ],
 "metadata": {
  "kernelspec": {
   "display_name": "venv",
   "language": "python",
   "name": "python3"
  },
  "language_info": {
   "codemirror_mode": {
    "name": "ipython",
    "version": 3
   },
   "file_extension": ".py",
   "mimetype": "text/x-python",
   "name": "python",
   "nbconvert_exporter": "python",
   "pygments_lexer": "ipython3",
   "version": "3.10.0"
  }
 },
 "nbformat": 4,
 "nbformat_minor": 2
}
